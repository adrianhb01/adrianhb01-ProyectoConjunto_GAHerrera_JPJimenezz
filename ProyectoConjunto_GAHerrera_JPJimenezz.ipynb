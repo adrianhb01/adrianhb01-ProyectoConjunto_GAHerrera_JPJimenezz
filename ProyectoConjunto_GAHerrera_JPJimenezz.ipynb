{
 "cells": [
  {
   "cell_type": "markdown",
   "id": "b06edede",
   "metadata": {},
   "source": [
    "<img style=\"float: left; margin: 30px 15px 15px 15px;\" src=\"https://pngimage.net/wp-content/uploads/2018/06/logo-iteso-png-5.png\" width=\"300\" height=\"500\" /> \n",
    "    \n",
    "    \n",
    "### <font color='navy'> Simulación de procesos financieros. \n",
    "\n",
    "**Nombres:** Gustavo Adrián Herrera Barragán & José Pablo Jiménez Mendoza.\n",
    "\n",
    "**Fecha:** 31 de enero del 2022.\n",
    "\n",
    "**Expediente** : 734546 & ######.\n",
    "**Profesor:** Oscar David Jaramillo Zuluaga.\n",
    "    \n",
    "**Link Github**: https://github.com/adrianhb01/adrianhb01-ProyectoConjunto_GAHerrera_JPJimenezz.gitÇ\n",
    "\n",
    "# Tarea 1 b) -Git: Clase 2"
   ]
  },
  {
   "cell_type": "markdown",
   "id": "1462fdc4",
   "metadata": {},
   "source": [
    "Este archivo contiene las pautas necesarias para crear el archivo conjunto en Github, usando los notebooks de Jupyter:\n",
    "\n",
    "1.  El archivo debe realizarse en parejas y sólo uno de los dos debe crear en su cuenta de *Github* un repositorio con el nombre **ProyectoConjunto\\_APELLIDO1\\_APELLIDO2**. A la persona que creó el repositorio la llamaremos (ESTUDIANTE 1 ). El APELLIDO se debe de escribir (Iniciales del nombre y primer apellido), por ejemplo si yo creara el archivo lo debería de nombrar *ProyectoConjunto\\_ODJaramillo*. \n",
    "1.  Posteriormente, desde la cuenta del (ESTUDIANTE 2), 'aquel que no creó el repositorio anterior', ingresar al perfil del ESTUDIANTE 1 y en el repositorio creado en el paso 1, realizar un \"fork\" de este repositorio en su perfil, y además realizar los pasos en Gitkraken para hacer dicho repositorio \"Remoto (REMOTE)\" VER DICHO PROCEDIMIENTO EN LA CLASE **Clase2_GitTurorial2**.\n",
    "1.  Luego de realizados los pasos 1 y 2, el ESTUDIANTE 1 y ESTUDIANTE 2, desde su computador realizar un *clone* del repositorio creado en el numeral 1 en la carpeta que cada quién haya asignado para el curso en su computador. \n",
    "1.  Luego desde Jupyter el ESTUDIANTE 1, crea un nuevo ``notebook`` en el repositorio del paso 3. \n",
    "1.  En este nuevo notebook el ESTUDIANTE 1 y ESTUDIANTE 2, deben realizar una presentación describiendo sus expectativas del curso y la transcipción de la Figura 1 y Figura 2 respectivamente, haciendo uso de la sintaxis Markdown. Recuerden definir unas celdas donde cada usuario modificará el cuaderno de python para evitar futuros conflictos. \n",
    "\n",
    "**RECOMENDACIÓN:ANTES DE EMPEZAR A REALIZAR MUCHAS MODIFICACIONES DEL NOTEBOOK PRIMERO REALICEN CAMBIOS PEQUEÑOS EN EL ARCHIVO EN CONJUNTO Y VERIFIQUEN SI TANTO EL ``ESTUDIANTE 1`` COMO EL ``ESTUDIANTE 2``  RECIBEN LAS ACTUALIZACIONES QUE REALIZAN CADA UNO EN EL PROYECTO PARA VERIFICAR QUE EL REMOTE ESTUVO BIEN CONFIGURADO.**\n",
    ">Les recomiendo ver los siguientes enlaces para ver distintas funciones para escribir en markdown.\n",
    ">    - [Creador de tablas online](https://www.tablesgenerator.com/markdown_tables)\n",
    ">    - [Sintáxis markdown](https://joplinapp.org/markdown/)\n",
    "\n",
    "6. Cuando ya se encuentre el proyecto conjunto con la información del ESTUDIANTE 1 y ESTUDIANTE 2, el ``ESTUDIANTE 2``  debe de realizar un `pull request` con las modificaciones realizadas a el `ESTUDIANTE 1` para que este realice un merge a la rama `master`, con las moficaciones propuestas por el `ESTUDIANTE 2`, TAL Y CÓMO SE REALIZÓ EN CLASE. (Recuerden que los pull request se generan en *Gitkraken* y se administran los comentarios o cambios propuestos por su compañero desde *Github* ver `Clase1_GitTurorial` para aclaración de dudas, donde se explica cómo crear *branch y pull request*)"
   ]
  },
  {
   "cell_type": "markdown",
   "id": "9ac22191",
   "metadata": {},
   "source": [
    "7. Luego de culminado los pasos anteriores, el ESTUDIANTE 1,realizará un programa que imprima la serie de fibonacci para sus primeros 100 términos en un array de python,usando la rama “master” del repositorio creado. Por otro lado, el ESTUDIANTE 2,creando un “branch” llamado `ejerPrograma`, generará un programa que muestre los números primos del 0-100. Luego de que el ESTUDIANTE 2 haya terminado su programa, debe de realizar un “pull request” al ESTUDIANTE 1, **ANTES** de hacer un “merge” de la rama `ejerPrograma` en el proyecto principal (“master”). Luego de realizado estos pasos **NO BORRAR LA RAMA CREADA (`ejerPrograma`)**"
   ]
  },
  {
   "cell_type": "markdown",
   "id": "3c6a4cab",
   "metadata": {},
   "source": [
    "## Ejercicio 1: Realizar una presentación describiendo sus expectativas del curso y la transcipción de la Figura 1 y Figura 2 respectivamente, haciendo uso de la sintaxis Markdown."
   ]
  },
  {
   "cell_type": "markdown",
   "id": "7b25c048",
   "metadata": {},
   "source": [
    "### Código de solución estudiante 1 (Gustavo Adrián Herrera Barragán)"
   ]
  },
  {
   "cell_type": "markdown",
   "id": "cfc12c7a",
   "metadata": {},
   "source": [
    "### Expectativas del curso:\n",
    "\n",
    "Como expectativas para este curso tengo pensado aprender de una mejor manera a usar GitHub y GitKraken. Además, aprender a programar de una forma más completa y no tan simple como sé ahora. Me gustaría que fuera un curso dinámico, donde haya mucha comunicación entre el maestro y compañeros de clase."
   ]
  },
  {
   "cell_type": "code",
   "execution_count": 7,
   "id": "bcbee2e7",
   "metadata": {},
   "outputs": [
    {
     "ename": "SyntaxError",
     "evalue": "invalid syntax (<ipython-input-7-87b3ee5b6107>, line 1)",
     "output_type": "error",
     "traceback": [
      "\u001b[0;36m  File \u001b[0;32m\"<ipython-input-7-87b3ee5b6107>\"\u001b[0;36m, line \u001b[0;32m1\u001b[0m\n\u001b[0;31m    | i | x    | f(x)   |\u001b[0m\n\u001b[0m    ^\u001b[0m\n\u001b[0;31mSyntaxError\u001b[0m\u001b[0;31m:\u001b[0m invalid syntax\n"
     ]
    }
   ],
   "source": [
    "\n",
    "| i | x    | f(x)   |\n",
    "|---|------|--------|\n",
    "| 0 | -1   | 0.3678 |\n",
    "| 1 | -0.5 | 0.7788 |\n",
    "| 2 | 0    | 1      |\n",
    "| 3 | 0.5  | 0.7778 |\n",
    "| 4 | 1    | 0.3678 |\n",
    "\n",
    "<p style=\"text-align: center;\"> Cuadro 1: Tabla de valores de f(x) </p>\n",
    "\n",
    "<p style=\"text-align: center;\">$$ \\ \\int_{-1}^{1} e^{-x^2}\\,dx\\ \\approx[f(-1)+f(1)+4(f(-0.5)+f(0.5)+2f(0)] $$\n",
    "    \n",
    "$$\\approx\\frac{0.5}{3}[0.3678+0.3678+4(0.7788+0.7788)+2\\cdot1]\\approx 1.4943$$ </p>\n",
    "\n",
    "\n",
    "<p style=\"text-align: center;\"> A modo de verificación, se calculará por software, el valor del área para n = 100, un valor mucho más elevado al que se utilizó anteriormente. Si lo calculado previamente es correcto, se esperaría que  sea próximo al valor presentado a continuación para ser una buena aproximación. </p>\n",
    "\n",
    "<p style=\"text-align: center;\"> $$ \\ \\int_{-1}^{1} e^{-x^2}\\,dx\\ \\approx 1.4943$$ </p>"
   ]
  },
  {
   "cell_type": "markdown",
   "id": "88c97021",
   "metadata": {},
   "source": [
    "### Código de solución estudiante 2 (José Pablo Jiménez Mendoza)."
   ]
  },
  {
   "cell_type": "markdown",
   "id": "89fb979d",
   "metadata": {},
   "source": [
    "### Expectativas del curso:\n"
   ]
  },
  {
   "cell_type": "code",
   "execution_count": null,
   "id": "98ba7fdb",
   "metadata": {},
   "outputs": [],
   "source": []
  },
  {
   "cell_type": "markdown",
   "id": "b7a2fd9f",
   "metadata": {},
   "source": [
    "## Ejercicio 2: ESTUDIANTE 1: Realizar un programa que imprima la serie de fibonacci para sus primeros 100 términos en un array de python,usando la rama “master” del repositorio creado."
   ]
  },
  {
   "cell_type": "code",
   "execution_count": null,
   "id": "cb8ec403",
   "metadata": {},
   "outputs": [],
   "source": []
  },
  {
   "cell_type": "markdown",
   "id": "a81b812f",
   "metadata": {},
   "source": [
    "## Ejercicio 2: ESTUDIANTE 2: Creando un “branch” llamado `ejerPrograma`, generará un programa que muestre los números primos del 0-100."
   ]
  },
  {
   "cell_type": "code",
   "execution_count": null,
   "id": "d39f3937",
   "metadata": {},
   "outputs": [],
   "source": []
  }
 ],
 "metadata": {
  "kernelspec": {
   "display_name": "Python 3",
   "language": "python",
   "name": "python3"
  },
  "language_info": {
   "codemirror_mode": {
    "name": "ipython",
    "version": 3
   },
   "file_extension": ".py",
   "mimetype": "text/x-python",
   "name": "python",
   "nbconvert_exporter": "python",
   "pygments_lexer": "ipython3",
   "version": "3.8.8"
  }
 },
 "nbformat": 4,
 "nbformat_minor": 5
}
